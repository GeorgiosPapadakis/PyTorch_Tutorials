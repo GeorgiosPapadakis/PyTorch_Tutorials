{
  "nbformat": 4,
  "nbformat_minor": 0,
  "metadata": {
    "colab": {
      "provenance": []
    },
    "kernelspec": {
      "name": "python3",
      "display_name": "Python 3"
    },
    "language_info": {
      "name": "python"
    }
  },
  "cells": [
    {
      "cell_type": "markdown",
      "source": [
        "# Logistic Regression\n",
        "\n",
        "It's time for some classification!!\n",
        "\n",
        "We will make a Logistic Regression classifier for the MNIST dataset."
      ],
      "metadata": {
        "id": "wBNORrvxiwh9"
      }
    },
    {
      "cell_type": "markdown",
      "source": [
        "## Import libraries"
      ],
      "metadata": {
        "id": "zk4jRzANjEVB"
      }
    },
    {
      "cell_type": "code",
      "execution_count": null,
      "metadata": {
        "id": "jwD4LIygfp-D"
      },
      "outputs": [],
      "source": [
        "import torch\n",
        "import torch.nn as nn\n",
        "from torch.autograd import Variable\n",
        "from torch.utils.data import DataLoader\n",
        "\n",
        "import pandas as pd\n",
        "import numpy as np\n",
        "import matplotlib.pyplot as plt\n",
        "\n",
        "from sklearn.model_selection import train_test_split"
      ]
    },
    {
      "cell_type": "markdown",
      "source": [
        "## Prepare Dataset\n",
        "\n",
        "We will import the MNIST Dataset from Kaggle."
      ],
      "metadata": {
        "id": "V7uMoaYglDTT"
      }
    },
    {
      "cell_type": "markdown",
      "source": [
        "### Import Dataset\n",
        "\n",
        "{\"username\":\"giorgospapadakis227\",\n",
        "\n",
        "\"key\":\"0d98fada57d63e3b60481c013c67e993\"}"
      ],
      "metadata": {
        "id": "L-s4ssYQnU74"
      }
    },
    {
      "cell_type": "code",
      "source": [
        "!pip install opendatasets\n"
      ],
      "metadata": {
        "colab": {
          "base_uri": "https://localhost:8080/"
        },
        "id": "iiPt-BeUnp5l",
        "outputId": "858c210c-c9ff-4906-b150-f99a286e93e1"
      },
      "execution_count": null,
      "outputs": [
        {
          "output_type": "stream",
          "name": "stdout",
          "text": [
            "Collecting opendatasets\n",
            "  Downloading opendatasets-0.1.22-py3-none-any.whl (15 kB)\n",
            "Requirement already satisfied: tqdm in /usr/local/lib/python3.10/dist-packages (from opendatasets) (4.66.2)\n",
            "Requirement already satisfied: kaggle in /usr/local/lib/python3.10/dist-packages (from opendatasets) (1.5.16)\n",
            "Requirement already satisfied: click in /usr/local/lib/python3.10/dist-packages (from opendatasets) (8.1.7)\n",
            "Requirement already satisfied: six>=1.10 in /usr/local/lib/python3.10/dist-packages (from kaggle->opendatasets) (1.16.0)\n",
            "Requirement already satisfied: certifi in /usr/local/lib/python3.10/dist-packages (from kaggle->opendatasets) (2024.2.2)\n",
            "Requirement already satisfied: python-dateutil in /usr/local/lib/python3.10/dist-packages (from kaggle->opendatasets) (2.8.2)\n",
            "Requirement already satisfied: requests in /usr/local/lib/python3.10/dist-packages (from kaggle->opendatasets) (2.31.0)\n",
            "Requirement already satisfied: python-slugify in /usr/local/lib/python3.10/dist-packages (from kaggle->opendatasets) (8.0.4)\n",
            "Requirement already satisfied: urllib3 in /usr/local/lib/python3.10/dist-packages (from kaggle->opendatasets) (2.0.7)\n",
            "Requirement already satisfied: bleach in /usr/local/lib/python3.10/dist-packages (from kaggle->opendatasets) (6.1.0)\n",
            "Requirement already satisfied: webencodings in /usr/local/lib/python3.10/dist-packages (from bleach->kaggle->opendatasets) (0.5.1)\n",
            "Requirement already satisfied: text-unidecode>=1.3 in /usr/local/lib/python3.10/dist-packages (from python-slugify->kaggle->opendatasets) (1.3)\n",
            "Requirement already satisfied: charset-normalizer<4,>=2 in /usr/local/lib/python3.10/dist-packages (from requests->kaggle->opendatasets) (3.3.2)\n",
            "Requirement already satisfied: idna<4,>=2.5 in /usr/local/lib/python3.10/dist-packages (from requests->kaggle->opendatasets) (3.6)\n",
            "Installing collected packages: opendatasets\n",
            "Successfully installed opendatasets-0.1.22\n"
          ]
        }
      ]
    },
    {
      "cell_type": "code",
      "source": [
        "# import the MNIST dataset\n",
        "\n",
        "import opendatasets as od\n",
        "\n",
        "od.download(\"https://www.kaggle.com/competitions/digit-recognizer/data\", force = True)"
      ],
      "metadata": {
        "colab": {
          "base_uri": "https://localhost:8080/"
        },
        "id": "gXyLzA79nRn8",
        "outputId": "2a352f9e-7a1c-4a15-e452-88ff0c11c962"
      },
      "execution_count": null,
      "outputs": [
        {
          "output_type": "stream",
          "name": "stdout",
          "text": [
            "Please provide your Kaggle credentials to download this dataset. Learn more: http://bit.ly/kaggle-creds\n",
            "Your Kaggle username: giorgospapadakis227\n",
            "Your Kaggle Key: ··········\n",
            "Downloading digit-recognizer.zip to ./digit-recognizer\n"
          ]
        },
        {
          "output_type": "stream",
          "name": "stderr",
          "text": [
            "100%|██████████| 15.3M/15.3M [00:00<00:00, 38.4MB/s]\n"
          ]
        },
        {
          "output_type": "stream",
          "name": "stdout",
          "text": [
            "\n",
            "Extracting archive ./digit-recognizer/digit-recognizer.zip to ./digit-recognizer\n"
          ]
        }
      ]
    },
    {
      "cell_type": "markdown",
      "source": [
        "### Prepare Dataset"
      ],
      "metadata": {
        "id": "mRrmUR3-pR36"
      }
    },
    {
      "cell_type": "markdown",
      "source": [
        "First we load the data with pandas."
      ],
      "metadata": {
        "id": "aW3NF7YyvpED"
      }
    },
    {
      "cell_type": "code",
      "source": [
        "# load data with pands\n",
        "train = pd.read_csv('/content/digit-recognizer/train.csv', dtype = np.float32)\n",
        "\n",
        "# split data into features(pixels) and labels\n",
        "targets_numpy = train.label.values\n",
        "features_numpy = train.loc[:,train.columns != \"label\"].values/255# /255 to normalize the pixels\n",
        "\n",
        "# split the train dataset into 80% train and test 20%\n",
        "features_train, features_test, targets_train, targets_test = train_test_split(features_numpy,\n",
        "                                                                             targets_numpy,\n",
        "                                                                             test_size = 0.2,\n",
        "                                                                             random_state = 42)"
      ],
      "metadata": {
        "id": "Lhy5Emp5pYjH"
      },
      "execution_count": null,
      "outputs": []
    },
    {
      "cell_type": "markdown",
      "source": [
        "We have to create Variables to continue with the gradients of the model.\n",
        "\n",
        "So we will create tensors, then Variables."
      ],
      "metadata": {
        "id": "Asz2oJ-Tvys8"
      }
    },
    {
      "cell_type": "code",
      "source": [
        "featuresTrain = torch.from_numpy(features_train)\n",
        "targetsTrain = torch.from_numpy(targets_train).type(torch.LongTensor) # data type is long\n",
        "\n",
        "featuresTest = torch.from_numpy(features_test)\n",
        "targetsTest = torch.from_numpy(targets_test).type(torch.LongTensor) # data type is long"
      ],
      "metadata": {
        "id": "0nA8n4UuwaUN"
      },
      "execution_count": null,
      "outputs": []
    },
    {
      "cell_type": "markdown",
      "source": [
        "Next, we have to define the batch size, epochs and iterations."
      ],
      "metadata": {
        "id": "1VK5GUCMiRO9"
      }
    },
    {
      "cell_type": "code",
      "source": [
        "batch_size = 100\n",
        "n_iters = 10000\n",
        "num_epochs = n_iters / (len(features_train) / batch_size)\n",
        "num_epochs = int(num_epochs)"
      ],
      "metadata": {
        "id": "OwaRCuQfiaIM"
      },
      "execution_count": null,
      "outputs": []
    },
    {
      "cell_type": "markdown",
      "source": [
        "Now we have to create our real train/test datasets.\n",
        "\n",
        "We can do it with the help of ``` DataLoaders```.\n",
        "\n"
      ],
      "metadata": {
        "id": "lYtezaUNnKKS"
      }
    },
    {
      "cell_type": "code",
      "source": [
        "# Pytorch train and test sets\n",
        "train = torch.utils.data.TensorDataset(featuresTrain,targetsTrain)\n",
        "test = torch.utils.data.TensorDataset(featuresTest,targetsTest)\n",
        "\n",
        "# data loader\n",
        "train_loader = DataLoader(train, batch_size = batch_size, shuffle = False)\n",
        "test_loader = DataLoader(test, batch_size = batch_size, shuffle = False)"
      ],
      "metadata": {
        "id": "9VweVQB2nm3p"
      },
      "execution_count": null,
      "outputs": []
    },
    {
      "cell_type": "code",
      "source": [
        "# visualise some images in the dataset\n",
        "\n",
        "plt.imshow(features_numpy[10].reshape(28,28))\n",
        "plt.axis('off')\n",
        "plt.title(str(targets_numpy[10]))\n",
        "plt.show()\n"
      ],
      "metadata": {
        "colab": {
          "base_uri": "https://localhost:8080/",
          "height": 428
        },
        "id": "_4j8fDq4q-VK",
        "outputId": "bfff4e3f-17bf-490b-8db2-cc6755aef1c0"
      },
      "execution_count": null,
      "outputs": [
        {
          "output_type": "display_data",
          "data": {
            "text/plain": [
              "<Figure size 640x480 with 1 Axes>"
            ],
            "image/png": "[encoded data removed]"
          },
          "metadata": {}
        }
      ]
    },
    {
      "cell_type": "markdown",
      "source": [
        "## Define LogisticRegression class and model"
      ],
      "metadata": {
        "id": "4AlzWbyjlGvm"
      }
    },
    {
      "cell_type": "code",
      "source": [
        "# Create Logistic Regression Model\n",
        "class LogisticRegressionModel(nn.Module):\n",
        "    def __init__(self, input_dim, output_dim):\n",
        "        super(LogisticRegressionModel, self).__init__()\n",
        "        # Linear part\n",
        "        self.linear = nn.Linear(input_dim, output_dim)\n",
        "        # There should be logistic function right?\n",
        "        # However logistic function in pytorch is in loss function\n",
        "        # So actually we do not forget to put it, it is only at next parts\n",
        "\n",
        "    def forward(self, x):\n",
        "        out = self.linear(x)\n",
        "        return out\n",
        "\n",
        "# Instantiate Model Class\n",
        "input_dim = 28*28 # size of image px*px\n",
        "output_dim = 10  # labels 0,1,2,3,4,5,6,7,8,9\n",
        "\n",
        "# create logistic regression model\n",
        "model = LogisticRegressionModel(input_dim, output_dim)\n",
        "\n",
        "# Cross Entropy Loss\n",
        "error = nn.CrossEntropyLoss()\n",
        "\n",
        "# SGD Optimizer\n",
        "learning_rate = 0.001\n",
        "optimizer = torch.optim.SGD(model.parameters(), lr=learning_rate)"
      ],
      "metadata": {
        "id": "CVKnX0blxuTA"
      },
      "execution_count": null,
      "outputs": []
    },
    {
      "cell_type": "markdown",
      "source": [
        "## Train model"
      ],
      "metadata": {
        "id": "S63tzq-ulL8Y"
      }
    },
    {
      "cell_type": "code",
      "source": [
        "# Traning the Model\n",
        "count = 0\n",
        "loss_list = []\n",
        "iteration_list = []\n",
        "for epoch in range(num_epochs):\n",
        "    for i, (images, labels) in enumerate(train_loader):\n",
        "\n",
        "        # Define variables\n",
        "        train = Variable(images.view(-1, 28*28))\n",
        "        labels = Variable(labels)\n",
        "\n",
        "        # Clear gradients\n",
        "        optimizer.zero_grad()\n",
        "\n",
        "        # Forward propagation\n",
        "        outputs = model(train)\n",
        "\n",
        "        # Calculate softmax and cross entropy loss\n",
        "        loss = error(outputs, labels)\n",
        "\n",
        "        # Calculate gradients\n",
        "        loss.backward()\n",
        "\n",
        "        # Update parameters\n",
        "        optimizer.step()\n",
        "\n",
        "        count += 1\n",
        "\n",
        "        # Prediction\n",
        "        if count % 50 == 0:\n",
        "            # Calculate Accuracy\n",
        "            correct = 0\n",
        "            total = 0\n",
        "            # Predict test dataset\n",
        "            for images, labels in test_loader:\n",
        "                test = Variable(images.view(-1, 28*28))\n",
        "\n",
        "                # Forward propagation\n",
        "                outputs = model(test)\n",
        "\n",
        "                # Get predictions from the maximum value\n",
        "                predicted = torch.max(outputs.data, 1)[1]\n",
        "\n",
        "                # Total number of labels\n",
        "                total += len(labels)\n",
        "\n",
        "                # Total correct predictions\n",
        "                correct += (predicted == labels).sum()\n",
        "\n",
        "            accuracy = 100 * correct / float(total)\n",
        "\n",
        "            # store loss and iteration\n",
        "            loss_list.append(loss.data)\n",
        "            iteration_list.append(count)\n",
        "        if count % 500 == 0:\n",
        "            # Print Loss\n",
        "            print('Iteration: {}  Loss: {}  Accuracy: {}%'.format(count, loss.data, accuracy))"
      ],
      "metadata": {
        "colab": {
          "base_uri": "https://localhost:8080/"
        },
        "id": "XPhPRuZWV6eX",
        "outputId": "a2150388-8b70-4941-e40c-be7e9e068cf8"
      },
      "execution_count": null,
      "outputs": [
        {
          "output_type": "stream",
          "name": "stdout",
          "text": [
            "Iteration: 500  Loss: 1.8281488418579102  Accuracy: 67.94047546386719%\n",
            "Iteration: 1000  Loss: 1.6025463342666626  Accuracy: 75.85713958740234%\n",
            "Iteration: 1500  Loss: 1.2813847064971924  Accuracy: 78.4047622680664%\n",
            "Iteration: 2000  Loss: 1.1959737539291382  Accuracy: 80.11904907226562%\n",
            "Iteration: 2500  Loss: 1.048294186592102  Accuracy: 81.19047546386719%\n",
            "Iteration: 3000  Loss: 0.942579448223114  Accuracy: 82.08333587646484%\n",
            "Iteration: 3500  Loss: 0.8961941599845886  Accuracy: 82.6547622680664%\n",
            "Iteration: 4000  Loss: 0.755138099193573  Accuracy: 83.0952377319336%\n",
            "Iteration: 4500  Loss: 0.9683355093002319  Accuracy: 83.48809814453125%\n",
            "Iteration: 5000  Loss: 0.8056088089942932  Accuracy: 83.83333587646484%\n",
            "Iteration: 5500  Loss: 0.7545871138572693  Accuracy: 84.20237731933594%\n",
            "Iteration: 6000  Loss: 0.8670231699943542  Accuracy: 84.41666412353516%\n",
            "Iteration: 6500  Loss: 0.664065420627594  Accuracy: 84.71428680419922%\n",
            "Iteration: 7000  Loss: 0.7113122344017029  Accuracy: 84.94047546386719%\n",
            "Iteration: 7500  Loss: 0.6437961459159851  Accuracy: 85.23809814453125%\n",
            "Iteration: 8000  Loss: 0.7381011247634888  Accuracy: 85.4047622680664%\n",
            "Iteration: 8500  Loss: 0.5446280837059021  Accuracy: 85.5952377319336%\n",
            "Iteration: 9000  Loss: 0.658344030380249  Accuracy: 85.75%\n",
            "Iteration: 9500  Loss: 0.5261348485946655  Accuracy: 85.86904907226562%\n"
          ]
        }
      ]
    },
    {
      "cell_type": "code",
      "source": [
        "# visualization\n",
        "plt.plot(iteration_list,loss_list)\n",
        "plt.xlabel(\"Number of iteration\")\n",
        "plt.ylabel(\"Loss\")\n",
        "plt.title(\"Logistic Regression: Loss vs Number of iteration\")\n",
        "plt.show()"
      ],
      "metadata": {
        "colab": {
          "base_uri": "https://localhost:8080/",
          "height": 472
        },
        "id": "PfAjdRXXjOuf",
        "outputId": "1e55d0e0-6e50-40c3-9366-0e880e19f819"
      },
      "execution_count": null,
      "outputs": [
        {
          "output_type": "display_data",
          "data": {
            "text/plain": [
              "<Figure size 640x480 with 1 Axes>"
            ],
            "image/png": "[encoded data removed]"
          },
          "metadata": {}
        }
      ]
    },
    {
      "cell_type": "markdown",
      "source": [
        "## Predictions"
      ],
      "metadata": {
        "id": "otaArV8xlQ9S"
      }
    },
    {
      "cell_type": "code",
      "source": [
        "for images, labels in test_loader:\n",
        "  test = Variable(images.view(-1, 28*28))\n",
        "\n",
        "  # Forward propagation\n",
        "  outputs = model(test)\n",
        "\n",
        "  # Get predictions from the maximum value\n",
        "  predicted = torch.max(outputs.data, 1)[1]"
      ],
      "metadata": {
        "id": "bwbRpJJhkYij"
      },
      "execution_count": null,
      "outputs": []
    },
    {
      "cell_type": "code",
      "source": [
        "for i in range(100):\n",
        "  print('Predicted = {}, Real = {}'.format(predicted[i], labels[i]))\n",
        "\n",
        "# Total correct predictions\n",
        "correct += (predicted == labels).sum()\n",
        "\n",
        "accuracy = 100 * correct / float(total)\n",
        "print('Accuracy = ', accuracy.item())"
      ],
      "metadata": {
        "colab": {
          "base_uri": "https://localhost:8080/"
        },
        "id": "pcO9Jj9Tk_DY",
        "outputId": "2fea984d-bb67-4b5c-ca3d-cb631cff6c61"
      },
      "execution_count": null,
      "outputs": [
        {
          "output_type": "stream",
          "name": "stdout",
          "text": [
            "Predicted = 4, Real = 7\n",
            "Predicted = 9, Real = 9\n",
            "Predicted = 8, Real = 5\n",
            "Predicted = 1, Real = 1\n",
            "Predicted = 0, Real = 0\n",
            "Predicted = 1, Real = 1\n",
            "Predicted = 0, Real = 9\n",
            "Predicted = 2, Real = 2\n",
            "Predicted = 4, Real = 4\n",
            "Predicted = 4, Real = 4\n",
            "Predicted = 2, Real = 2\n",
            "Predicted = 0, Real = 0\n",
            "Predicted = 1, Real = 1\n",
            "Predicted = 0, Real = 0\n",
            "Predicted = 3, Real = 3\n",
            "Predicted = 7, Real = 7\n",
            "Predicted = 2, Real = 2\n",
            "Predicted = 8, Real = 8\n",
            "Predicted = 2, Real = 2\n",
            "Predicted = 7, Real = 7\n",
            "Predicted = 2, Real = 2\n",
            "Predicted = 4, Real = 8\n",
            "Predicted = 8, Real = 0\n",
            "Predicted = 7, Real = 7\n",
            "Predicted = 6, Real = 6\n",
            "Predicted = 1, Real = 8\n",
            "Predicted = 3, Real = 5\n",
            "Predicted = 5, Real = 5\n",
            "Predicted = 5, Real = 5\n",
            "Predicted = 9, Real = 2\n",
            "Predicted = 5, Real = 5\n",
            "Predicted = 0, Real = 0\n",
            "Predicted = 5, Real = 5\n",
            "Predicted = 1, Real = 1\n",
            "Predicted = 1, Real = 1\n",
            "Predicted = 8, Real = 8\n",
            "Predicted = 0, Real = 0\n",
            "Predicted = 8, Real = 8\n",
            "Predicted = 3, Real = 3\n",
            "Predicted = 3, Real = 3\n",
            "Predicted = 3, Real = 5\n",
            "Predicted = 8, Real = 8\n",
            "Predicted = 6, Real = 6\n",
            "Predicted = 2, Real = 2\n",
            "Predicted = 5, Real = 5\n",
            "Predicted = 7, Real = 7\n",
            "Predicted = 1, Real = 1\n",
            "Predicted = 2, Real = 7\n",
            "Predicted = 0, Real = 0\n",
            "Predicted = 6, Real = 6\n",
            "Predicted = 1, Real = 1\n",
            "Predicted = 0, Real = 0\n",
            "Predicted = 9, Real = 9\n",
            "Predicted = 5, Real = 5\n",
            "Predicted = 6, Real = 6\n",
            "Predicted = 1, Real = 1\n",
            "Predicted = 3, Real = 3\n",
            "Predicted = 7, Real = 7\n",
            "Predicted = 9, Real = 9\n",
            "Predicted = 3, Real = 2\n",
            "Predicted = 7, Real = 7\n",
            "Predicted = 0, Real = 0\n",
            "Predicted = 2, Real = 2\n",
            "Predicted = 2, Real = 2\n",
            "Predicted = 6, Real = 6\n",
            "Predicted = 3, Real = 3\n",
            "Predicted = 5, Real = 0\n",
            "Predicted = 0, Real = 0\n",
            "Predicted = 6, Real = 5\n",
            "Predicted = 5, Real = 5\n",
            "Predicted = 1, Real = 1\n",
            "Predicted = 1, Real = 1\n",
            "Predicted = 3, Real = 8\n",
            "Predicted = 9, Real = 9\n",
            "Predicted = 2, Real = 2\n",
            "Predicted = 9, Real = 9\n",
            "Predicted = 2, Real = 7\n",
            "Predicted = 4, Real = 4\n",
            "Predicted = 8, Real = 8\n",
            "Predicted = 7, Real = 7\n",
            "Predicted = 8, Real = 8\n",
            "Predicted = 9, Real = 7\n",
            "Predicted = 3, Real = 3\n",
            "Predicted = 9, Real = 9\n",
            "Predicted = 9, Real = 4\n",
            "Predicted = 9, Real = 9\n",
            "Predicted = 0, Real = 0\n",
            "Predicted = 7, Real = 7\n",
            "Predicted = 4, Real = 4\n",
            "Predicted = 3, Real = 3\n",
            "Predicted = 5, Real = 3\n",
            "Predicted = 3, Real = 3\n",
            "Predicted = 7, Real = 7\n",
            "Predicted = 1, Real = 1\n",
            "Predicted = 8, Real = 8\n",
            "Predicted = 4, Real = 4\n",
            "Predicted = 9, Real = 9\n",
            "Predicted = 3, Real = 3\n",
            "Predicted = 0, Real = 0\n",
            "Predicted = 9, Real = 9\n",
            "Accuracy =  90.83333587646484\n"
          ]
        }
      ]
    }
  ]
}