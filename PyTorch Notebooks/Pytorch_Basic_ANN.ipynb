{
  "nbformat": 4,
  "nbformat_minor": 0,
  "metadata": {
    "colab": {
      "provenance": []
    },
    "kernelspec": {
      "name": "python3",
      "display_name": "Python 3"
    },
    "language_info": {
      "name": "python"
    }
  },
  "cells": [
    {
      "cell_type": "markdown",
      "source": [
        "#ANN (Artificial Neural Networks)\n",
        "\n",
        "We saw that the Logistic Model is doing some decent work on classification.\n",
        "\n",
        "Now its time to see the real power of Pytorch with ANNs.\n",
        "\n",
        "We will use again MNIST dataset. All the preparation of the dataset is going into a one cell, because I did it back at the Logistic Notebook."
      ],
      "metadata": {
        "id": "XWfexl-AnYn5"
      }
    },
    {
      "cell_type": "markdown",
      "source": [
        "## Import libraries - Prepare the Dataset"
      ],
      "metadata": {
        "id": "HHDMGA6SoCSD"
      }
    },
    {
      "cell_type": "code",
      "source": [
        "!pip install opendatasets"
      ],
      "metadata": {
        "colab": {
          "base_uri": "https://localhost:8080/"
        },
        "id": "bKC4rYpToVdP",
        "outputId": "b8d28f61-437f-4051-c7ee-d5f8ba86a970"
      },
      "execution_count": 1,
      "outputs": [
        {
          "output_type": "stream",
          "name": "stdout",
          "text": [
            "Collecting opendatasets\n",
            "  Downloading opendatasets-0.1.22-py3-none-any.whl (15 kB)\n",
            "Requirement already satisfied: tqdm in /usr/local/lib/python3.10/dist-packages (from opendatasets) (4.66.2)\n",
            "Requirement already satisfied: kaggle in /usr/local/lib/python3.10/dist-packages (from opendatasets) (1.5.16)\n",
            "Requirement already satisfied: click in /usr/local/lib/python3.10/dist-packages (from opendatasets) (8.1.7)\n",
            "Requirement already satisfied: six>=1.10 in /usr/local/lib/python3.10/dist-packages (from kaggle->opendatasets) (1.16.0)\n",
            "Requirement already satisfied: certifi in /usr/local/lib/python3.10/dist-packages (from kaggle->opendatasets) (2024.2.2)\n",
            "Requirement already satisfied: python-dateutil in /usr/local/lib/python3.10/dist-packages (from kaggle->opendatasets) (2.8.2)\n",
            "Requirement already satisfied: requests in /usr/local/lib/python3.10/dist-packages (from kaggle->opendatasets) (2.31.0)\n",
            "Requirement already satisfied: python-slugify in /usr/local/lib/python3.10/dist-packages (from kaggle->opendatasets) (8.0.4)\n",
            "Requirement already satisfied: urllib3 in /usr/local/lib/python3.10/dist-packages (from kaggle->opendatasets) (2.0.7)\n",
            "Requirement already satisfied: bleach in /usr/local/lib/python3.10/dist-packages (from kaggle->opendatasets) (6.1.0)\n",
            "Requirement already satisfied: webencodings in /usr/local/lib/python3.10/dist-packages (from bleach->kaggle->opendatasets) (0.5.1)\n",
            "Requirement already satisfied: text-unidecode>=1.3 in /usr/local/lib/python3.10/dist-packages (from python-slugify->kaggle->opendatasets) (1.3)\n",
            "Requirement already satisfied: charset-normalizer<4,>=2 in /usr/local/lib/python3.10/dist-packages (from requests->kaggle->opendatasets) (3.3.2)\n",
            "Requirement already satisfied: idna<4,>=2.5 in /usr/local/lib/python3.10/dist-packages (from requests->kaggle->opendatasets) (3.6)\n",
            "Installing collected packages: opendatasets\n",
            "Successfully installed opendatasets-0.1.22\n"
          ]
        }
      ]
    },
    {
      "cell_type": "code",
      "execution_count": 2,
      "metadata": {
        "colab": {
          "base_uri": "https://localhost:8080/"
        },
        "id": "ccmE25WanMFn",
        "outputId": "1a7734c8-58c0-4dd4-f594-0f55d093298c"
      },
      "outputs": [
        {
          "output_type": "stream",
          "name": "stdout",
          "text": [
            "Please provide your Kaggle credentials to download this dataset. Learn more: http://bit.ly/kaggle-creds\n",
            "Your Kaggle username: giorgospapadakis227\n",
            "Your Kaggle Key: ··········\n",
            "Downloading digit-recognizer.zip to ./digit-recognizer\n"
          ]
        },
        {
          "output_type": "stream",
          "name": "stderr",
          "text": [
            "100%|██████████| 15.3M/15.3M [00:00<00:00, 116MB/s] "
          ]
        },
        {
          "output_type": "stream",
          "name": "stdout",
          "text": [
            "\n",
            "Extracting archive ./digit-recognizer/digit-recognizer.zip to ./digit-recognizer\n"
          ]
        },
        {
          "output_type": "stream",
          "name": "stderr",
          "text": [
            "\n"
          ]
        }
      ],
      "source": [
        "import torch\n",
        "import torch.nn as nn\n",
        "from torch.autograd import Variable\n",
        "from torch.utils.data import DataLoader\n",
        "\n",
        "import pandas as pd\n",
        "import numpy as np\n",
        "import matplotlib.pyplot as plt\n",
        "\n",
        "from sklearn.model_selection import train_test_split\n",
        "\n",
        "#\"username\":\"giorgospapadakis227\",\n",
        "#\"key\":\"0d98fada57d63e3b60481c013c67e993\"\n",
        "\n",
        "import opendatasets as od\n",
        "\n",
        "od.download(\"https://www.kaggle.com/competitions/digit-recognizer/data\", force = True)"
      ]
    },
    {
      "cell_type": "code",
      "source": [
        "# load data with pands\n",
        "train = pd.read_csv('/content/digit-recognizer/train.csv', dtype = np.float32)\n",
        "\n",
        "# split data into features(pixels) and labels\n",
        "targets_numpy = train.label.values\n",
        "features_numpy = train.loc[:,train.columns != \"label\"].values/255# /255 to normalize the pixels\n",
        "\n",
        "# split the train dataset into 80% train and test 20%\n",
        "features_train, features_test, targets_train, targets_test = train_test_split(features_numpy,\n",
        "                                                                             targets_numpy,\n",
        "                                                                             test_size = 0.2,\n",
        "                                                                             random_state = 42)\n",
        "\n",
        "# Create Tensors\n",
        "featuresTrain = torch.from_numpy(features_train)\n",
        "targetsTrain = torch.from_numpy(targets_train).type(torch.LongTensor) # data type is long\n",
        "\n",
        "featuresTest = torch.from_numpy(features_test)\n",
        "targetsTest = torch.from_numpy(targets_test).type(torch.LongTensor) # data type is long\n",
        "\n",
        "# Basic model parameters\n",
        "batch_size = 100\n",
        "n_iters = 10000\n",
        "num_epochs = n_iters / (len(features_train) / batch_size)\n",
        "num_epochs = int(num_epochs)\n",
        "\n",
        "# Pytorch train and test sets\n",
        "train = torch.utils.data.TensorDataset(featuresTrain,targetsTrain)\n",
        "test = torch.utils.data.TensorDataset(featuresTest,targetsTest)\n",
        "\n",
        "# data loader\n",
        "train_loader = DataLoader(train, batch_size = batch_size, shuffle = False)\n",
        "test_loader = DataLoader(test, batch_size = batch_size, shuffle = False)"
      ],
      "metadata": {
        "id": "kFSworb1oioj"
      },
      "execution_count": 3,
      "outputs": []
    },
    {
      "cell_type": "markdown",
      "source": [
        "## Define and construct the ANN Model\n",
        "\n",
        "We will use the above structure for our model\n",
        "\n",
        "\n",
        "* Fully Connencted Layer: 784 -> 150\n",
        "    * ReLU as non - linearity\n",
        "\n",
        "* Fully Connencted Layer: 150 -> 150\n",
        "    * Tanh as non - linearity\n",
        "\n",
        "* Fully Connencted Layer: 150 -> 150\n",
        "    * ELU as non - linearity\n",
        "\n",
        "* Fully Connencted Layer: 150 -> 10\n"
      ],
      "metadata": {
        "id": "pwDkyQzno5j-"
      }
    },
    {
      "cell_type": "code",
      "source": [
        "class ANNModel(nn.Module):\n",
        "\n",
        "  def __init__(self, input_dim, hidden_dim, output_dim):\n",
        "        super(ANNModel, self).__init__()\n",
        "\n",
        "        # Linear function 1: 784 --> 150\n",
        "        self.fc1 = nn.Linear(input_dim, hidden_dim)\n",
        "        # Non-linearity 1\n",
        "        self.relu1 = nn.ReLU()\n",
        "\n",
        "        # Linear function 2: 150 --> 150\n",
        "        self.fc2 = nn.Linear(hidden_dim, hidden_dim)\n",
        "        # Non-linearity 2\n",
        "        self.tanh2 = nn.Tanh()\n",
        "\n",
        "        # Linear function 3: 150 --> 150\n",
        "        self.fc3 = nn.Linear(hidden_dim, hidden_dim)\n",
        "        # Non-linearity 3\n",
        "        self.elu3 = nn.ELU()\n",
        "\n",
        "        # Linear function 4 (readout): 150 --> 10\n",
        "        self.fc4 = nn.Linear(hidden_dim, output_dim)\n",
        "\n",
        "  def forward(self, x):\n",
        "    # Linear function 1\n",
        "        out = self.fc1(x)\n",
        "        # Non-linearity 1\n",
        "        out = self.relu1(out)\n",
        "\n",
        "        # Linear function 2\n",
        "        out = self.fc2(out)\n",
        "        # Non-linearity 2\n",
        "        out = self.tanh2(out)\n",
        "\n",
        "        # Linear function 2\n",
        "        out = self.fc3(out)\n",
        "        # Non-linearity 2\n",
        "        out = self.elu3(out)\n",
        "\n",
        "        # Linear function 4 (readout)\n",
        "        out = self.fc4(out)\n",
        "        return out"
      ],
      "metadata": {
        "id": "VSoUoeypo-Id"
      },
      "execution_count": 8,
      "outputs": []
    },
    {
      "cell_type": "code",
      "source": [
        "# instatiate ANN\n",
        "\n",
        "input_dim = 28*28\n",
        "hidden_dim = 150\n",
        "output_dim = 10\n",
        "\n",
        "# Create ANN\n",
        "model = ANNModel(input_dim, hidden_dim, output_dim)\n",
        "\n",
        "# Loss Function\n",
        "error = nn.CrossEntropyLoss()\n",
        "\n",
        "# Optimizer\n",
        "learning_rate = 0.02\n",
        "optimizer = torch.optim.SGD(model.parameters(), lr = learning_rate)"
      ],
      "metadata": {
        "id": "wgl9yEIDrT-T"
      },
      "execution_count": 9,
      "outputs": []
    },
    {
      "cell_type": "markdown",
      "source": [
        "## Train model"
      ],
      "metadata": {
        "id": "p2Fj6bV5r7MS"
      }
    },
    {
      "cell_type": "code",
      "source": [
        "count = 0\n",
        "loss_list = []\n",
        "iteration_list = []\n",
        "accuracy_list = []\n",
        "for epoch in range(num_epochs):\n",
        "    for i, (images, labels) in enumerate(train_loader):\n",
        "\n",
        "        train = Variable(images.view(-1, 28*28))\n",
        "        labels = Variable(labels)\n",
        "\n",
        "        # Clear gradients\n",
        "        optimizer.zero_grad()\n",
        "\n",
        "        # Forward propagation\n",
        "        outputs = model(train)\n",
        "\n",
        "        # Calculate softmax and ross entropy loss\n",
        "        loss = error(outputs, labels)\n",
        "\n",
        "        # Calculating gradients\n",
        "        loss.backward()\n",
        "\n",
        "        # Update parameters\n",
        "        optimizer.step()\n",
        "\n",
        "        count += 1\n",
        "\n",
        "        if count % 50 == 0:\n",
        "            # Calculate Accuracy\n",
        "            correct = 0\n",
        "            total = 0\n",
        "            # Predict test dataset\n",
        "            for images, labels in test_loader:\n",
        "\n",
        "                test = Variable(images.view(-1, 28*28))\n",
        "\n",
        "                # Forward propagation\n",
        "                outputs = model(test)\n",
        "\n",
        "                # Get predictions from the maximum value\n",
        "                predicted = torch.max(outputs.data, 1)[1]\n",
        "\n",
        "                # Total number of labels\n",
        "                total += len(labels)\n",
        "\n",
        "                # Total correct predictions\n",
        "                correct += (predicted == labels).sum()\n",
        "\n",
        "            accuracy = 100 * correct / float(total)\n",
        "\n",
        "            # store loss and iteration\n",
        "            loss_list.append(loss.data)\n",
        "            iteration_list.append(count)\n",
        "            accuracy_list.append(accuracy)\n",
        "        if count % 500 == 0:\n",
        "            # Print Loss\n",
        "            print('Iteration: {}  Loss: {}  Accuracy: {} %'.format(count, loss.data, accuracy))\n"
      ],
      "metadata": {
        "colab": {
          "base_uri": "https://localhost:8080/"
        },
        "id": "yQv2789Gr8zN",
        "outputId": "4d2c272b-3471-4fac-b487-bfdd02447941"
      },
      "execution_count": 10,
      "outputs": [
        {
          "output_type": "stream",
          "name": "stdout",
          "text": [
            "Iteration: 500  Loss: 0.8156417012214661  Accuracy: 77.52381134033203 %\n",
            "Iteration: 1000  Loss: 0.43804657459259033  Accuracy: 87.57142639160156 %\n",
            "Iteration: 1500  Loss: 0.2512649595737457  Accuracy: 89.46428680419922 %\n",
            "Iteration: 2000  Loss: 0.293457955121994  Accuracy: 90.47618865966797 %\n",
            "Iteration: 2500  Loss: 0.30820176005363464  Accuracy: 91.94047546386719 %\n",
            "Iteration: 3000  Loss: 0.11718372255563736  Accuracy: 92.71428680419922 %\n",
            "Iteration: 3500  Loss: 0.2538478970527649  Accuracy: 93.46428680419922 %\n",
            "Iteration: 4000  Loss: 0.0687924325466156  Accuracy: 93.89286041259766 %\n",
            "Iteration: 4500  Loss: 0.30306199193000793  Accuracy: 94.41666412353516 %\n",
            "Iteration: 5000  Loss: 0.11159661412239075  Accuracy: 94.64286041259766 %\n",
            "Iteration: 5500  Loss: 0.20511120557785034  Accuracy: 94.73809814453125 %\n",
            "Iteration: 6000  Loss: 0.20337241888046265  Accuracy: 94.97618865966797 %\n",
            "Iteration: 6500  Loss: 0.10652422904968262  Accuracy: 95.26190185546875 %\n",
            "Iteration: 7000  Loss: 0.12422101944684982  Accuracy: 95.52381134033203 %\n",
            "Iteration: 7500  Loss: 0.1404861956834793  Accuracy: 95.6547622680664 %\n",
            "Iteration: 8000  Loss: 0.19619201123714447  Accuracy: 95.63095092773438 %\n",
            "Iteration: 8500  Loss: 0.07582671195268631  Accuracy: 95.92857360839844 %\n",
            "Iteration: 9000  Loss: 0.06197195127606392  Accuracy: 95.98809814453125 %\n",
            "Iteration: 9500  Loss: 0.025298288092017174  Accuracy: 96.0952377319336 %\n"
          ]
        }
      ]
    },
    {
      "cell_type": "code",
      "source": [
        "# visualization loss\n",
        "plt.plot(iteration_list,loss_list)\n",
        "plt.xlabel(\"Number of iteration\")\n",
        "plt.ylabel(\"Loss\")\n",
        "plt.title(\"ANN: Loss vs Number of iteration\")\n",
        "plt.show()\n",
        "\n",
        "# visualization accuracy\n",
        "plt.plot(iteration_list,accuracy_list,color = \"red\")\n",
        "plt.xlabel(\"Number of iteration\")\n",
        "plt.ylabel(\"Accuracy\")\n",
        "plt.title(\"ANN: Accuracy vs Number of iteration\")\n",
        "plt.show()"
      ],
      "metadata": {
        "colab": {
          "base_uri": "https://localhost:8080/",
          "height": 927
        },
        "id": "8dB5ujPCsf19",
        "outputId": "c6524a3f-d9c9-4bac-c32e-33b25e4cd6ca"
      },
      "execution_count": 11,
      "outputs": [
        {
          "output_type": "display_data",
          "data": {
            "text/plain": [
              "<Figure size 640x480 with 1 Axes>"
            ],
            "image/png": "[encoded data removed]"
          },
          "metadata": {}
        },
        {
          "output_type": "display_data",
          "data": {
            "text/plain": [
              "<Figure size 640x480 with 1 Axes>"
            ],
            "image/png": "[encoded data removed]"
          },
          "metadata": {}
        }
      ]
    },
    {
      "cell_type": "markdown",
      "source": [
        "## Predictions"
      ],
      "metadata": {
        "id": "k61pDErcsoEj"
      }
    },
    {
      "cell_type": "code",
      "source": [
        "for images, labels in test_loader:\n",
        "  test = Variable(images.view(-1, 28*28))\n",
        "\n",
        "  # Forward propagation\n",
        "  outputs = model(test)\n",
        "\n",
        "  # Get predictions from the maximum value\n",
        "  predicted = torch.max(outputs.data, 1)[1]\n",
        "\n",
        "for i in range(100):\n",
        "  print('Predicted = {}, Real = {}'.format(predicted[i], labels[i]))\n",
        "\n",
        "# Total correct predictions\n",
        "correct += (predicted == labels).sum()\n",
        "\n",
        "accuracy = 100 * correct / float(total)\n",
        "print('Accuracy = ', accuracy.item())"
      ],
      "metadata": {
        "colab": {
          "base_uri": "https://localhost:8080/"
        },
        "id": "zNY0kEUAsp3i",
        "outputId": "79e83e8b-2c0d-492c-d8c8-df498ea1ce98"
      },
      "execution_count": 12,
      "outputs": [
        {
          "output_type": "stream",
          "name": "stdout",
          "text": [
            "Predicted = 7, Real = 7\n",
            "Predicted = 9, Real = 9\n",
            "Predicted = 5, Real = 5\n",
            "Predicted = 1, Real = 1\n",
            "Predicted = 0, Real = 0\n",
            "Predicted = 1, Real = 1\n",
            "Predicted = 0, Real = 9\n",
            "Predicted = 2, Real = 2\n",
            "Predicted = 4, Real = 4\n",
            "Predicted = 4, Real = 4\n",
            "Predicted = 2, Real = 2\n",
            "Predicted = 0, Real = 0\n",
            "Predicted = 1, Real = 1\n",
            "Predicted = 0, Real = 0\n",
            "Predicted = 3, Real = 3\n",
            "Predicted = 7, Real = 7\n",
            "Predicted = 2, Real = 2\n",
            "Predicted = 8, Real = 8\n",
            "Predicted = 2, Real = 2\n",
            "Predicted = 7, Real = 7\n",
            "Predicted = 2, Real = 2\n",
            "Predicted = 6, Real = 8\n",
            "Predicted = 0, Real = 0\n",
            "Predicted = 7, Real = 7\n",
            "Predicted = 6, Real = 6\n",
            "Predicted = 8, Real = 8\n",
            "Predicted = 5, Real = 5\n",
            "Predicted = 5, Real = 5\n",
            "Predicted = 5, Real = 5\n",
            "Predicted = 2, Real = 2\n",
            "Predicted = 5, Real = 5\n",
            "Predicted = 0, Real = 0\n",
            "Predicted = 5, Real = 5\n",
            "Predicted = 1, Real = 1\n",
            "Predicted = 1, Real = 1\n",
            "Predicted = 8, Real = 8\n",
            "Predicted = 0, Real = 0\n",
            "Predicted = 8, Real = 8\n",
            "Predicted = 3, Real = 3\n",
            "Predicted = 3, Real = 3\n",
            "Predicted = 5, Real = 5\n",
            "Predicted = 8, Real = 8\n",
            "Predicted = 6, Real = 6\n",
            "Predicted = 2, Real = 2\n",
            "Predicted = 5, Real = 5\n",
            "Predicted = 7, Real = 7\n",
            "Predicted = 1, Real = 1\n",
            "Predicted = 7, Real = 7\n",
            "Predicted = 0, Real = 0\n",
            "Predicted = 6, Real = 6\n",
            "Predicted = 1, Real = 1\n",
            "Predicted = 0, Real = 0\n",
            "Predicted = 9, Real = 9\n",
            "Predicted = 5, Real = 5\n",
            "Predicted = 6, Real = 6\n",
            "Predicted = 1, Real = 1\n",
            "Predicted = 3, Real = 3\n",
            "Predicted = 7, Real = 7\n",
            "Predicted = 9, Real = 9\n",
            "Predicted = 2, Real = 2\n",
            "Predicted = 7, Real = 7\n",
            "Predicted = 0, Real = 0\n",
            "Predicted = 2, Real = 2\n",
            "Predicted = 2, Real = 2\n",
            "Predicted = 6, Real = 6\n",
            "Predicted = 3, Real = 3\n",
            "Predicted = 0, Real = 0\n",
            "Predicted = 0, Real = 0\n",
            "Predicted = 6, Real = 5\n",
            "Predicted = 5, Real = 5\n",
            "Predicted = 1, Real = 1\n",
            "Predicted = 1, Real = 1\n",
            "Predicted = 8, Real = 8\n",
            "Predicted = 9, Real = 9\n",
            "Predicted = 2, Real = 2\n",
            "Predicted = 9, Real = 9\n",
            "Predicted = 2, Real = 7\n",
            "Predicted = 4, Real = 4\n",
            "Predicted = 8, Real = 8\n",
            "Predicted = 7, Real = 7\n",
            "Predicted = 8, Real = 8\n",
            "Predicted = 7, Real = 7\n",
            "Predicted = 3, Real = 3\n",
            "Predicted = 9, Real = 9\n",
            "Predicted = 4, Real = 4\n",
            "Predicted = 9, Real = 9\n",
            "Predicted = 0, Real = 0\n",
            "Predicted = 7, Real = 7\n",
            "Predicted = 4, Real = 4\n",
            "Predicted = 3, Real = 3\n",
            "Predicted = 3, Real = 3\n",
            "Predicted = 3, Real = 3\n",
            "Predicted = 7, Real = 7\n",
            "Predicted = 1, Real = 1\n",
            "Predicted = 8, Real = 8\n",
            "Predicted = 4, Real = 4\n",
            "Predicted = 9, Real = 9\n",
            "Predicted = 3, Real = 3\n",
            "Predicted = 0, Real = 0\n",
            "Predicted = 9, Real = 9\n",
            "Accuracy =  97.47618865966797\n"
          ]
        }
      ]
    }
  ]
}